{
 "cells": [
  {
   "cell_type": "code",
   "execution_count": 8,
   "metadata": {},
   "outputs": [],
   "source": [
    "import matplotlib.pyplot as plt\n",
    "import numpy as np\n",
    "import pandas as pd\n",
    "import scipy.optimize"
   ]
  },
  {
   "cell_type": "code",
   "execution_count": 2,
   "metadata": {},
   "outputs": [],
   "source": [
    "'''\n",
    "dtypes = {'LandAverageTemperature' : 'float64', \n",
    "        'LandAverageTemperatureUncertainty' : 'float64', \n",
    "        'LandMaxTemperature' : 'float64',\n",
    "        'LandMaxTemperatureUncertainty' : 'float64',\n",
    "        'LandMinTemperature' : 'float64',\n",
    "        'LandMinTemperatureUncertainty' : 'float64',\n",
    "        'LandAndOceanAverageTemperature' : 'float64',\n",
    "        'LandAndOceanAverageTemperatureUncertainty' : 'float64'}\n",
    "'''\n",
    "\n",
    "data = pd.read_csv(\"./data/population.csv\", index_col=False, parse_dates=False)\n"
   ]
  },
  {
   "cell_type": "code",
   "execution_count": 3,
   "metadata": {},
   "outputs": [],
   "source": [
    "data = data.groupby([\"Year\"]).sum()"
   ]
  },
  {
   "cell_type": "code",
   "execution_count": null,
   "metadata": {},
   "outputs": [],
   "source": [
    "start = \"2000-01-01\"\n",
    "end = \"\"\n",
    "col = data['LandAverageTemperature'].loc[start:]"
   ]
  },
  {
   "cell_type": "code",
   "execution_count": 136,
   "metadata": {},
   "outputs": [],
   "source": [
    "#generate data\n",
    "x = np.array(range(10))\n",
    "y = 0.5*np.exp(0.5*x) + (np.random.normal(0,2,1))\n",
    "\n",
    "\n",
    "#x = data.index.values\n",
    "#y = data[\"Count\"].values\n"
   ]
  },
  {
   "cell_type": "code",
   "execution_count": 137,
   "metadata": {},
   "outputs": [],
   "source": [
    "w = scipy.optimize.curve_fit(lambda t,a,b: a*np.exp(b*t),  x,  y, (0.21,0.1))\n",
    "a = w[0][0]\n",
    "b = w[0][1]"
   ]
  },
  {
   "cell_type": "code",
   "execution_count": 139,
   "metadata": {},
   "outputs": [
    {
     "name": "stdout",
     "output_type": "stream",
     "text": [
      "0.2839935205911617 0.5597917474034225\n"
     ]
    }
   ],
   "source": [
    "print(a,b)"
   ]
  },
  {
   "cell_type": "code",
   "execution_count": 140,
   "metadata": {},
   "outputs": [
    {
     "data": {
      "image/png": "[encoded data removed]",
      "text/plain": [
       "<Figure size 432x288 with 1 Axes>"
      ]
     },
     "metadata": {
      "needs_background": "light"
     },
     "output_type": "display_data"
    }
   ],
   "source": [
    "# Plot\n",
    "\n",
    "plt.scatter(x,y)\n",
    "z = np.array(range(1000))/100\n",
    "plt.plot(z,a*np.exp(b*z))\n",
    "\n",
    "# Labelling \n",
    "\n",
    "plt.xlabel(\"Year\")\n",
    "plt.ylabel(\"Pop\")\n",
    "plt.title(\"Global pop\")\n",
    "\n",
    "# Display\n",
    "\n",
    "plt.show()"
   ]
  }
 ],
 "metadata": {
  "kernelspec": {
   "display_name": "Python 3.8.10 64-bit (windows store)",
   "language": "python",
   "name": "python3"
  },
  "language_info": {
   "codemirror_mode": {
    "name": "ipython",
    "version": 3
   },
   "file_extension": ".py",
   "mimetype": "text/x-python",
   "name": "python",
   "nbconvert_exporter": "python",
   "pygments_lexer": "ipython3",
   "version": "3.8.10"
  },
  "orig_nbformat": 4,
  "vscode": {
   "interpreter": {
    "hash": "3395fdf9df810ff403a1c27ba46bd32902461ea0cf5063b25d91b8bc5efd39c2"
   }
  }
 },
 "nbformat": 4,
 "nbformat_minor": 2
}
